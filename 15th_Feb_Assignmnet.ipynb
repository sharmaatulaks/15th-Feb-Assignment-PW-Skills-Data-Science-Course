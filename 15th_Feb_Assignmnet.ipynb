{
 "cells": [
  {
   "cell_type": "markdown",
   "id": "47046b2f-76ba-42ec-82e9-7d082dce1ac0",
   "metadata": {},
   "source": [
    "# <center> 15th Feb Assignmnet"
   ]
  },
  {
   "cell_type": "markdown",
   "id": "d7480fcf-1499-4e39-ae85-065d8a6ff40d",
   "metadata": {},
   "source": [
    "# Q1:- What is multiprocessing in python? Why is it useful?"
   ]
  },
  {
   "cell_type": "markdown",
   "id": "d53449b6-92e6-4018-a833-9aefdad548dd",
   "metadata": {},
   "source": [
    "Ans 1:- Multiprocessing in Python is a way to execute multiple tasks simultaneously using different processors or cores of the computer. It allows us to utilize the full potential of CPU, which can help to speed up the execution time of CPU-intensive tasks.\n",
    "\n",
    "Python's multiprocessing module provides a simple and efficient way to create and manage parallel processes in Python. It allows to spawn multiple processes, each running in its own Python interpreter and running concurrently.\n",
    "\n",
    "Multiprocessing can be particularly useful when the tasks that can be run independently of one another. For example, we have a program that needs to download and process data from several different websites. Instead of waiting for each website to finish downloading before moving on to the next one, we can use multiprocessing to download and process the data from all websites simultaneously, potentially cutting down the overall execution time of the program significantly.\n",
    "\n",
    "Another example where multiprocessing is useful is when we need to process a large amount of data in parallel. By splitting the data into chunks and processing each chunk in a separate process, we can take advantage of multiple cores to speed up the computation.\n",
    "\n",
    "Overall, multiprocessing is a powerful tool that can help us to make our Python programs more efficient and faster. It can be particularly useful when we have CPU-bound tasks that can be run independently of one another."
   ]
  },
  {
   "cell_type": "markdown",
   "id": "d8014f0b-bbea-4f0c-8b0b-9f8af13455dc",
   "metadata": {},
   "source": [
    "# Q2:-  What are the differences between multiprocessing and multithreading?"
   ]
  },
  {
   "cell_type": "markdown",
   "id": "8ed89a4c-1e05-4249-94e0-2c96e7dd7448",
   "metadata": {},
   "source": [
    "Ans 2:- Multiprocessing and multithreading are both techniques for achieving parallelism in software programs, but they work in different ways and have different advantages and disadvantages.\n",
    "\n",
    "Multiprocessing involves the use of multiple processes, each with its own memory space, to execute different parts of a program simultaneously. Each process is a separate instance of the program, and they can communicate with each other using inter-process communication (IPC) mechanisms like pipes, queues, and shared memory.\n",
    "\n",
    "Multithreading, on the other hand, involves the use of multiple threads within a single process to achieve parallelism. Threads share the same memory space and can access the same variables and data structures within the program. However, threads can also cause synchronization issues and race conditions, so they need to be properly managed and synchronized using locking and other synchronization mechanisms.\n",
    "\n",
    "Some of the key differences between multiprocessing and multithreading include:\n",
    "\n",
    "Memory Usage: Multiprocessing requires more memory since each process has its own memory space, whereas multithreading uses the same memory space for all threads.\n",
    "\n",
    "Communication Overhead: Communication between processes can be slower and more complex than communication between threads since processes need to use IPC mechanisms. In contrast, communication between threads can be faster and simpler.\n",
    "\n",
    "CPU-bound vs I/O-bound: Multiprocessing is more suitable for CPU-bound tasks, while multithreading is better for I/O-bound tasks.\n",
    "\n",
    "Parallelism: Multiprocessing can achieve true parallelism on multi-core systems, whereas multithreading can only achieve concurrent execution on a single-core system.\n",
    "\n",
    "Debugging: Debugging multiprocessing programs can be more challenging than debugging multithreaded programs since each process has its own memory space and can be running on a different core.\n",
    "\n",
    "In general, multiprocessing is better suited for CPU-bound tasks that can be easily parallelized, while multithreading is better suited for I/O-bound tasks that require a lot of waiting for external resources."
   ]
  },
  {
   "cell_type": "markdown",
   "id": "fabb365e-60f0-4ebd-8428-071f69b25145",
   "metadata": {},
   "source": [
    "# Q3:- Write a python code to create a process using the multiprocessing module."
   ]
  },
  {
   "cell_type": "code",
   "execution_count": 2,
   "id": "93c3aa97-20c5-45aa-b50b-ea49590dea50",
   "metadata": {},
   "outputs": [
    {
     "name": "stdout",
     "output_type": "stream",
     "text": [
      "I am inside my First multi process function\n",
      " The process has finished\n"
     ]
    }
   ],
   "source": [
    "# program using multiprocessing\n",
    "\n",
    "import multiprocessing\n",
    "\n",
    "def first_mult_proce():\n",
    "    print(\"I am inside my First multi process function\")\n",
    "    \n",
    "if __name__ == '__main__':\n",
    "    \n",
    "    process = multiprocessing.Process(target = first_mult_proce)\n",
    "    \n",
    "    process.start()\n",
    "    \n",
    "    process.join()\n",
    "    \n",
    "    print(\" The process has finished\")"
   ]
  },
  {
   "cell_type": "markdown",
   "id": "14b11f75-e7a7-4ff0-b8cf-1cd3d6b4e067",
   "metadata": {},
   "source": [
    "# Q4:- What is a multiprocessing pool in python? Why is it used?"
   ]
  },
  {
   "cell_type": "markdown",
   "id": "5ed2b170-fbcd-4469-9bf0-b4e092af41dd",
   "metadata": {},
   "source": [
    "Ans 4:- A multiprocessing pool in Python is a way to execute tasks in parallel using multiple processes. A pool allows to create a group of worker processes that can all execute tasks simultaneously, thus speeding up the execution of program.\n",
    "\n",
    "The multiprocessing.Pool class provides a simple way to create a pool of worker processes. we can specify the number of processes to use in the pool, and then submit tasks to be executed by those processes.\n",
    "\n"
   ]
  },
  {
   "cell_type": "markdown",
   "id": "10217d60-1bbe-447f-95fc-9a1071b72881",
   "metadata": {},
   "source": [
    "# Q5:- How can we create a pool of worker processes in python using the multiprocessing module?"
   ]
  },
  {
   "cell_type": "code",
   "execution_count": 5,
   "id": "adae75da-1c0b-4897-aeb9-1ac5dda2e796",
   "metadata": {},
   "outputs": [
    {
     "name": "stdout",
     "output_type": "stream",
     "text": [
      "[0, 1, 4, 9, 16, 25, 36, 49, 64, 81]\n"
     ]
    }
   ],
   "source": [
    "# program using pool\n",
    "\n",
    "import multiprocessing\n",
    "\n",
    "def square(number):\n",
    "    return number ** 2\n",
    "\n",
    "if __name__ == '__main__':\n",
    "    # create a pool with 4 worker processes\n",
    "    with multiprocessing.Pool(processes=4) as pool:\n",
    "        # map the square function to the numbers 0 to 9\n",
    "        results = pool.map(square, range(10))\n",
    "        print(results)\n"
   ]
  },
  {
   "cell_type": "markdown",
   "id": "2f3c6937-19e6-415d-9d2a-e1d7b71a70a7",
   "metadata": {},
   "source": [
    "In this example, we define a square function that simply squares its input. We then create a multiprocessing.Pool object with 4 worker processes, and use the map method to apply the square function to the numbers 0 to 9. The map method divides the input data into chunks and distributes the work among the worker processes in the pool. The results of the function are collected and returned in a list.\n",
    "\n",
    "Multiprocessing pools are used to improve the performance of CPU-bound tasks by running them in parallel. By dividing the work among multiple processes, we can take advantage of multiple CPU cores and speed up the execution of our program. This are commonly used in data processing, scientific computing, and machine learning applications."
   ]
  },
  {
   "cell_type": "markdown",
   "id": "07454296-946f-452e-aab1-956c98ac1fee",
   "metadata": {},
   "source": [
    "# Q6.Write a python program to create 4 processes, each process should print a different number using the multiprocessing module in python."
   ]
  },
  {
   "cell_type": "code",
   "execution_count": 6,
   "id": "c530d4db-6e9d-4674-9124-b31187957294",
   "metadata": {},
   "outputs": [
    {
     "name": "stdout",
     "output_type": "stream",
     "text": [
      "Process Process-10: 0\n",
      "Process Process-11: 1\n",
      "Process Process-12: 2\n",
      "Process Process-13: 3\n"
     ]
    }
   ],
   "source": [
    "import multiprocessing\n",
    "\n",
    "def print_number(number):\n",
    "    print(f\"Process {multiprocessing.current_process().name}: {number}\")\n",
    "\n",
    "if __name__ == '__main__':\n",
    "    processes = []\n",
    "    for i in range(4):\n",
    "        process = multiprocessing.Process(target=print_number, args=(i,))\n",
    "        processes.append(process)\n",
    "        process.start()\n",
    "\n",
    "    for process in processes:\n",
    "        process.join()\n"
   ]
  },
  {
   "cell_type": "markdown",
   "id": "87a43da3-bc28-41eb-af2f-caf3e9567305",
   "metadata": {},
   "source": [
    "# <Center> End of Assignmnet"
   ]
  },
  {
   "cell_type": "code",
   "execution_count": null,
   "id": "0e16f8fc-1c1a-4133-a063-8f4c10820174",
   "metadata": {},
   "outputs": [],
   "source": []
  }
 ],
 "metadata": {
  "kernelspec": {
   "display_name": "Python 3 (ipykernel)",
   "language": "python",
   "name": "python3"
  },
  "language_info": {
   "codemirror_mode": {
    "name": "ipython",
    "version": 3
   },
   "file_extension": ".py",
   "mimetype": "text/x-python",
   "name": "python",
   "nbconvert_exporter": "python",
   "pygments_lexer": "ipython3",
   "version": "3.10.8"
  }
 },
 "nbformat": 4,
 "nbformat_minor": 5
}
